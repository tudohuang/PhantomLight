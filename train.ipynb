{
 "cells": [
  {
   "cell_type": "code",
   "execution_count": null,
   "id": "f42c8eac-b60b-4e77-9026-5ee72bed4e23",
   "metadata": {},
   "outputs": [],
   "source": [
    "train_path = \"your train_data path\"\n",
    "model_path = \"your model path\""
   ]
  },
  {
   "cell_type": "code",
   "execution_count": 7,
   "id": "37608a56-990e-4b9d-99ec-e261576a6a2c",
   "metadata": {
    "tags": []
   },
   "outputs": [
    {
     "name": "stderr",
     "output_type": "stream",
     "text": [
      "100%|████████████████████████████████████████████████████████████████████████████| 1253/1253 [00:00<00:00, 4082.29it/s]\n"
     ]
    }
   ],
   "source": [
    "import glob\n",
    "import imageio.v2 as imageio\n",
    "import torch\n",
    "import torch.nn as nn\n",
    "import torch.optim as optim\n",
    "import numpy as np\n",
    "import tqdm\n",
    "import albumentations as A\n",
    "import csv\n",
    "import os\n",
    "from PIL import Image\n",
    "import matplotlib.pyplot as plt\n",
    "import cv2\n",
    "\n",
    "def get_label(f):\n",
    "    # 根據檔案名稱獲取標籤\n",
    "    if 'incendio' in f.lower():\n",
    "        label = 1\n",
    "    elif 'aqua' in f.lower():\n",
    "        label = 2\n",
    "    elif 'arresto' in f.lower():\n",
    "        label = 3\n",
    "    elif 'alohomora' in f.lower():\n",
    "        label = 4\n",
    "    elif 'lumos' in f.lower():\n",
    "        label = 5\n",
    "    elif 'null' in f.lower():\n",
    "        label = 0\n",
    "    return label\n",
    "\n",
    "class CNN(nn.Module):\n",
    "    def __init__(self):\n",
    "        super(CNN, self).__init__()\n",
    "        self.conv1 = nn.Conv2d(1, 32, kernel_size=3, stride=1, padding=1)\n",
    "        self.relu1 = nn.ReLU()\n",
    "        self.maxpool1 = nn.MaxPool2d(kernel_size=2, stride=2)\n",
    "        self.conv2 = nn.Conv2d(32, 64, kernel_size=3, stride=1, padding=1)\n",
    "        self.relu2 = nn.ReLU()\n",
    "        self.maxpool2 = nn.MaxPool2d(kernel_size=2, stride=2)\n",
    "        self.fc1 = nn.Linear(7 * 7 * 64, 128)\n",
    "        self.relu3 = nn.ReLU()\n",
    "        self.fc2 = nn.Linear(128, 6)\n",
    "\n",
    "    def forward(self, x):\n",
    "        x = self.conv1(x)\n",
    "        x = self.relu1(x)\n",
    "        x = self.maxpool1(x)\n",
    "        x = self.conv2(x)\n",
    "        x = self.relu2(x)\n",
    "        x = self.maxpool2(x)\n",
    "        x = x.view(x.size(0), -1)\n",
    "        x = self.fc1(x)\n",
    "        #x = self.fc1(x.view(x.size(0), -1))\n",
    "        x = self.relu3(x)\n",
    "        x = self.fc2(x)\n",
    "        return x\n",
    "\n",
    "\n",
    "device = torch.device(\"cuda\" if torch.cuda.is_available() else \"cpu\")\n",
    "\n",
    "ffs = glob.glob(f'{train_path}/*/*.png')\n",
    "train_list = []\n",
    "for f in tqdm.tqdm(ffs):\n",
    "    im = imageio.imread(f)\n",
    "\n",
    "    #print(im.shape, f)\n",
    "    label = get_label(f)\n",
    "    train_list.append([im, label])\n",
    "\n",
    "\n"
   ]
  },
  {
   "cell_type": "code",
   "execution_count": 10,
   "id": "9e07cae5-25ac-4a86-83b5-34396a2d998c",
   "metadata": {
    "tags": []
   },
   "outputs": [],
   "source": [
    "def run_epoch(data, model, criterion, optimizer, device, is_train=True):\n",
    "    total_loss = 0\n",
    "    count = 0\n",
    "\n",
    "    for dd in tqdm.tqdm(data):\n",
    "        im, label = dd\n",
    "\n",
    "        if is_train:\n",
    "            transform = A.Compose([\n",
    "              # A.Resize(28, 28),\n",
    "              A.ShiftScaleRotate(p=0.5),\n",
    "              A.OpticalDistortion(p=0.5),\n",
    "              A.GridDistortion(p=0.5),\n",
    "          ])\n",
    "            im = transform(image=im)['image']\n",
    "\n",
    "        im_d = torch.from_numpy(im[None, ...][None, ...]).to(device).float() / 255\n",
    "        label_d = torch.from_numpy(np.array([label])).to(device)\n",
    "\n",
    "        output_d = model(im_d)\n",
    "        loss = criterion(output_d, label_d.long())\n",
    "\n",
    "        if is_train:\n",
    "            optimizer.zero_grad()\n",
    "            loss.backward()\n",
    "            optimizer.step()\n",
    "\n",
    "        total_loss += loss.item()\n",
    "        count += 1\n",
    "\n",
    "    return total_loss / count if count > 0 else 0\n"
   ]
  },
  {
   "cell_type": "code",
   "execution_count": 11,
   "id": "a4b5e500-6426-4167-9328-3057a21857fd",
   "metadata": {
    "tags": []
   },
   "outputs": [
    {
     "name": "stderr",
     "output_type": "stream",
     "text": [
      "100%|█████████████████████████████████████████████████████████████████████████████| 1190/1190 [00:03<00:00, 391.77it/s]\n",
      "100%|████████████████████████████████████████████████████████████████████████████████| 63/63 [00:00<00:00, 3797.60it/s]\n"
     ]
    },
    {
     "name": "stdout",
     "output_type": "stream",
     "text": [
      "Epoch 1, Training Loss: 1.37086, Validation Loss: 1.30539\n",
      "Saving the model as Nullv1.pt\n"
     ]
    },
    {
     "name": "stderr",
     "output_type": "stream",
     "text": [
      "100%|█████████████████████████████████████████████████████████████████████████████| 1190/1190 [00:03<00:00, 373.61it/s]\n",
      "100%|████████████████████████████████████████████████████████████████████████████████| 63/63 [00:00<00:00, 3802.85it/s]\n"
     ]
    },
    {
     "name": "stdout",
     "output_type": "stream",
     "text": [
      "Epoch 2, Training Loss: 1.33581, Validation Loss: 1.18058\n"
     ]
    },
    {
     "name": "stderr",
     "output_type": "stream",
     "text": [
      "100%|█████████████████████████████████████████████████████████████████████████████| 1190/1190 [00:03<00:00, 376.37it/s]\n",
      "100%|████████████████████████████████████████████████████████████████████████████████| 63/63 [00:00<00:00, 3912.54it/s]\n"
     ]
    },
    {
     "name": "stdout",
     "output_type": "stream",
     "text": [
      "Epoch 3, Training Loss: 1.24386, Validation Loss: 1.03560\n"
     ]
    },
    {
     "name": "stderr",
     "output_type": "stream",
     "text": [
      "100%|█████████████████████████████████████████████████████████████████████████████| 1190/1190 [00:03<00:00, 371.56it/s]\n",
      "100%|████████████████████████████████████████████████████████████████████████████████| 63/63 [00:00<00:00, 2945.08it/s]\n"
     ]
    },
    {
     "name": "stdout",
     "output_type": "stream",
     "text": [
      "Epoch 4, Training Loss: 1.12743, Validation Loss: 1.26633\n"
     ]
    },
    {
     "name": "stderr",
     "output_type": "stream",
     "text": [
      "100%|█████████████████████████████████████████████████████████████████████████████| 1190/1190 [00:03<00:00, 340.36it/s]\n",
      "100%|████████████████████████████████████████████████████████████████████████████████| 63/63 [00:00<00:00, 2879.35it/s]\n"
     ]
    },
    {
     "name": "stdout",
     "output_type": "stream",
     "text": [
      "Epoch 5, Training Loss: 1.06503, Validation Loss: 1.20118\n"
     ]
    },
    {
     "name": "stderr",
     "output_type": "stream",
     "text": [
      "100%|█████████████████████████████████████████████████████████████████████████████| 1190/1190 [00:03<00:00, 358.59it/s]\n",
      "100%|████████████████████████████████████████████████████████████████████████████████| 63/63 [00:00<00:00, 3839.93it/s]\n"
     ]
    },
    {
     "name": "stdout",
     "output_type": "stream",
     "text": [
      "Epoch 6, Training Loss: 1.02314, Validation Loss: 0.87046\n"
     ]
    },
    {
     "name": "stderr",
     "output_type": "stream",
     "text": [
      "100%|█████████████████████████████████████████████████████████████████████████████| 1190/1190 [00:03<00:00, 363.96it/s]\n",
      "100%|████████████████████████████████████████████████████████████████████████████████| 63/63 [00:00<00:00, 2926.36it/s]\n"
     ]
    },
    {
     "name": "stdout",
     "output_type": "stream",
     "text": [
      "Epoch 7, Training Loss: 0.96063, Validation Loss: 0.81720\n"
     ]
    },
    {
     "name": "stderr",
     "output_type": "stream",
     "text": [
      "100%|█████████████████████████████████████████████████████████████████████████████| 1190/1190 [00:03<00:00, 369.90it/s]\n",
      "100%|████████████████████████████████████████████████████████████████████████████████| 63/63 [00:00<00:00, 3727.64it/s]\n"
     ]
    },
    {
     "name": "stdout",
     "output_type": "stream",
     "text": [
      "Epoch 8, Training Loss: 0.92255, Validation Loss: 0.64737\n"
     ]
    },
    {
     "name": "stderr",
     "output_type": "stream",
     "text": [
      "100%|█████████████████████████████████████████████████████████████████████████████| 1190/1190 [00:03<00:00, 369.74it/s]\n",
      "100%|████████████████████████████████████████████████████████████████████████████████| 63/63 [00:00<00:00, 3764.39it/s]\n"
     ]
    },
    {
     "name": "stdout",
     "output_type": "stream",
     "text": [
      "Epoch 9, Training Loss: 0.90807, Validation Loss: 0.79300\n"
     ]
    },
    {
     "name": "stderr",
     "output_type": "stream",
     "text": [
      "100%|█████████████████████████████████████████████████████████████████████████████| 1190/1190 [00:03<00:00, 377.31it/s]\n",
      "100%|████████████████████████████████████████████████████████████████████████████████| 63/63 [00:00<00:00, 3689.33it/s]\n"
     ]
    },
    {
     "name": "stdout",
     "output_type": "stream",
     "text": [
      "Epoch 10, Training Loss: 0.90002, Validation Loss: 0.81801\n"
     ]
    },
    {
     "name": "stderr",
     "output_type": "stream",
     "text": [
      "100%|█████████████████████████████████████████████████████████████████████████████| 1190/1190 [00:03<00:00, 381.47it/s]\n",
      "100%|████████████████████████████████████████████████████████████████████████████████| 63/63 [00:00<00:00, 3694.96it/s]\n"
     ]
    },
    {
     "name": "stdout",
     "output_type": "stream",
     "text": [
      "Epoch 11, Training Loss: 0.86952, Validation Loss: 0.63765\n"
     ]
    },
    {
     "name": "stderr",
     "output_type": "stream",
     "text": [
      "100%|█████████████████████████████████████████████████████████████████████████████| 1190/1190 [00:03<00:00, 369.97it/s]\n",
      "100%|████████████████████████████████████████████████████████████████████████████████| 63/63 [00:00<00:00, 3772.45it/s]\n"
     ]
    },
    {
     "name": "stdout",
     "output_type": "stream",
     "text": [
      "Epoch 12, Training Loss: 0.82036, Validation Loss: 0.53216\n"
     ]
    },
    {
     "name": "stderr",
     "output_type": "stream",
     "text": [
      "100%|█████████████████████████████████████████████████████████████████████████████| 1190/1190 [00:03<00:00, 374.91it/s]\n",
      "100%|████████████████████████████████████████████████████████████████████████████████| 63/63 [00:00<00:00, 3748.26it/s]\n"
     ]
    },
    {
     "name": "stdout",
     "output_type": "stream",
     "text": [
      "Epoch 13, Training Loss: 0.83071, Validation Loss: 0.77556\n"
     ]
    },
    {
     "name": "stderr",
     "output_type": "stream",
     "text": [
      "100%|█████████████████████████████████████████████████████████████████████████████| 1190/1190 [00:03<00:00, 360.79it/s]\n",
      "100%|████████████████████████████████████████████████████████████████████████████████| 63/63 [00:00<00:00, 3815.10it/s]\n"
     ]
    },
    {
     "name": "stdout",
     "output_type": "stream",
     "text": [
      "Epoch 14, Training Loss: 0.81090, Validation Loss: 0.51588\n"
     ]
    },
    {
     "name": "stderr",
     "output_type": "stream",
     "text": [
      "100%|█████████████████████████████████████████████████████████████████████████████| 1190/1190 [00:03<00:00, 371.33it/s]\n",
      "100%|████████████████████████████████████████████████████████████████████████████████| 63/63 [00:00<00:00, 2898.37it/s]\n"
     ]
    },
    {
     "name": "stdout",
     "output_type": "stream",
     "text": [
      "Epoch 15, Training Loss: 0.79976, Validation Loss: 0.56253\n"
     ]
    },
    {
     "name": "stderr",
     "output_type": "stream",
     "text": [
      "100%|█████████████████████████████████████████████████████████████████████████████| 1190/1190 [00:03<00:00, 318.42it/s]\n",
      "100%|████████████████████████████████████████████████████████████████████████████████| 63/63 [00:00<00:00, 3828.19it/s]\n"
     ]
    },
    {
     "name": "stdout",
     "output_type": "stream",
     "text": [
      "Epoch 16, Training Loss: 0.77862, Validation Loss: 0.54863\n"
     ]
    },
    {
     "name": "stderr",
     "output_type": "stream",
     "text": [
      "100%|█████████████████████████████████████████████████████████████████████████████| 1190/1190 [00:03<00:00, 372.87it/s]\n",
      "100%|████████████████████████████████████████████████████████████████████████████████| 63/63 [00:00<00:00, 3861.31it/s]\n"
     ]
    },
    {
     "name": "stdout",
     "output_type": "stream",
     "text": [
      "Epoch 17, Training Loss: 0.75019, Validation Loss: 0.47193\n"
     ]
    },
    {
     "name": "stderr",
     "output_type": "stream",
     "text": [
      "100%|█████████████████████████████████████████████████████████████████████████████| 1190/1190 [00:03<00:00, 369.46it/s]\n",
      "100%|████████████████████████████████████████████████████████████████████████████████| 63/63 [00:00<00:00, 3713.29it/s]\n"
     ]
    },
    {
     "name": "stdout",
     "output_type": "stream",
     "text": [
      "Epoch 18, Training Loss: 0.74707, Validation Loss: 0.47526\n"
     ]
    },
    {
     "name": "stderr",
     "output_type": "stream",
     "text": [
      "100%|█████████████████████████████████████████████████████████████████████████████| 1190/1190 [00:03<00:00, 364.09it/s]\n",
      "100%|████████████████████████████████████████████████████████████████████████████████| 63/63 [00:00<00:00, 2935.16it/s]\n"
     ]
    },
    {
     "name": "stdout",
     "output_type": "stream",
     "text": [
      "Epoch 19, Training Loss: 0.71936, Validation Loss: 0.44858\n"
     ]
    },
    {
     "name": "stderr",
     "output_type": "stream",
     "text": [
      "100%|█████████████████████████████████████████████████████████████████████████████| 1190/1190 [00:03<00:00, 359.25it/s]\n",
      "100%|████████████████████████████████████████████████████████████████████████████████| 63/63 [00:00<00:00, 3705.68it/s]\n"
     ]
    },
    {
     "name": "stdout",
     "output_type": "stream",
     "text": [
      "Epoch 20, Training Loss: 0.69448, Validation Loss: 0.41579\n"
     ]
    },
    {
     "name": "stderr",
     "output_type": "stream",
     "text": [
      "100%|█████████████████████████████████████████████████████████████████████████████| 1190/1190 [00:03<00:00, 355.22it/s]\n",
      "100%|████████████████████████████████████████████████████████████████████████████████| 63/63 [00:00<00:00, 2898.43it/s]\n"
     ]
    },
    {
     "name": "stdout",
     "output_type": "stream",
     "text": [
      "Epoch 21, Training Loss: 0.69269, Validation Loss: 0.45733\n"
     ]
    },
    {
     "name": "stderr",
     "output_type": "stream",
     "text": [
      "100%|█████████████████████████████████████████████████████████████████████████████| 1190/1190 [00:03<00:00, 363.41it/s]\n",
      "100%|████████████████████████████████████████████████████████████████████████████████| 63/63 [00:00<00:00, 3800.66it/s]\n"
     ]
    },
    {
     "name": "stdout",
     "output_type": "stream",
     "text": [
      "Epoch 22, Training Loss: 0.65698, Validation Loss: 0.42873\n"
     ]
    },
    {
     "name": "stderr",
     "output_type": "stream",
     "text": [
      "100%|█████████████████████████████████████████████████████████████████████████████| 1190/1190 [00:03<00:00, 357.68it/s]\n",
      "100%|████████████████████████████████████████████████████████████████████████████████| 63/63 [00:00<00:00, 3806.74it/s]\n"
     ]
    },
    {
     "name": "stdout",
     "output_type": "stream",
     "text": [
      "Epoch 23, Training Loss: 0.65947, Validation Loss: 0.40025\n"
     ]
    },
    {
     "name": "stderr",
     "output_type": "stream",
     "text": [
      "100%|█████████████████████████████████████████████████████████████████████████████| 1190/1190 [00:03<00:00, 344.34it/s]\n",
      "100%|████████████████████████████████████████████████████████████████████████████████| 63/63 [00:00<00:00, 3828.64it/s]\n"
     ]
    },
    {
     "name": "stdout",
     "output_type": "stream",
     "text": [
      "Epoch 24, Training Loss: 0.63798, Validation Loss: 0.39914\n"
     ]
    },
    {
     "name": "stderr",
     "output_type": "stream",
     "text": [
      "100%|█████████████████████████████████████████████████████████████████████████████| 1190/1190 [00:03<00:00, 383.37it/s]\n",
      "100%|████████████████████████████████████████████████████████████████████████████████| 63/63 [00:00<00:00, 3842.11it/s]\n"
     ]
    },
    {
     "name": "stdout",
     "output_type": "stream",
     "text": [
      "Epoch 25, Training Loss: 0.64826, Validation Loss: 0.42858\n"
     ]
    },
    {
     "name": "stderr",
     "output_type": "stream",
     "text": [
      "100%|█████████████████████████████████████████████████████████████████████████████| 1190/1190 [00:03<00:00, 350.83it/s]\n",
      "100%|████████████████████████████████████████████████████████████████████████████████| 63/63 [00:00<00:00, 3729.95it/s]\n"
     ]
    },
    {
     "name": "stdout",
     "output_type": "stream",
     "text": [
      "Epoch 26, Training Loss: 0.66174, Validation Loss: 0.38910\n"
     ]
    },
    {
     "name": "stderr",
     "output_type": "stream",
     "text": [
      "100%|█████████████████████████████████████████████████████████████████████████████| 1190/1190 [00:03<00:00, 379.21it/s]\n",
      "100%|████████████████████████████████████████████████████████████████████████████████| 63/63 [00:00<00:00, 3844.91it/s]\n"
     ]
    },
    {
     "name": "stdout",
     "output_type": "stream",
     "text": [
      "Epoch 27, Training Loss: 0.63186, Validation Loss: 0.42962\n"
     ]
    },
    {
     "name": "stderr",
     "output_type": "stream",
     "text": [
      "100%|█████████████████████████████████████████████████████████████████████████████| 1190/1190 [00:03<00:00, 373.63it/s]\n",
      "100%|████████████████████████████████████████████████████████████████████████████████| 63/63 [00:00<00:00, 2815.36it/s]\n"
     ]
    },
    {
     "name": "stdout",
     "output_type": "stream",
     "text": [
      "Epoch 28, Training Loss: 0.61478, Validation Loss: 0.38727\n"
     ]
    },
    {
     "name": "stderr",
     "output_type": "stream",
     "text": [
      "100%|█████████████████████████████████████████████████████████████████████████████| 1190/1190 [00:03<00:00, 340.53it/s]\n",
      "100%|████████████████████████████████████████████████████████████████████████████████| 63/63 [00:00<00:00, 2835.39it/s]\n"
     ]
    },
    {
     "name": "stdout",
     "output_type": "stream",
     "text": [
      "Epoch 29, Training Loss: 0.61749, Validation Loss: 0.31469\n"
     ]
    },
    {
     "name": "stderr",
     "output_type": "stream",
     "text": [
      "100%|█████████████████████████████████████████████████████████████████████████████| 1190/1190 [00:03<00:00, 368.67it/s]\n",
      "100%|████████████████████████████████████████████████████████████████████████████████| 63/63 [00:00<00:00, 3749.43it/s]\n"
     ]
    },
    {
     "name": "stdout",
     "output_type": "stream",
     "text": [
      "Epoch 30, Training Loss: 0.58077, Validation Loss: 0.36675\n"
     ]
    },
    {
     "name": "stderr",
     "output_type": "stream",
     "text": [
      "100%|█████████████████████████████████████████████████████████████████████████████| 1190/1190 [00:03<00:00, 377.21it/s]\n",
      "100%|████████████████████████████████████████████████████████████████████████████████| 63/63 [00:00<00:00, 3755.40it/s]\n"
     ]
    },
    {
     "name": "stdout",
     "output_type": "stream",
     "text": [
      "Epoch 31, Training Loss: 0.57455, Validation Loss: 0.29617\n"
     ]
    },
    {
     "name": "stderr",
     "output_type": "stream",
     "text": [
      "100%|█████████████████████████████████████████████████████████████████████████████| 1190/1190 [00:03<00:00, 370.49it/s]\n",
      "100%|████████████████████████████████████████████████████████████████████████████████| 63/63 [00:00<00:00, 2919.82it/s]\n"
     ]
    },
    {
     "name": "stdout",
     "output_type": "stream",
     "text": [
      "Epoch 32, Training Loss: 0.58912, Validation Loss: 0.31760\n"
     ]
    },
    {
     "name": "stderr",
     "output_type": "stream",
     "text": [
      "100%|█████████████████████████████████████████████████████████████████████████████| 1190/1190 [00:03<00:00, 369.36it/s]\n",
      "100%|████████████████████████████████████████████████████████████████████████████████| 63/63 [00:00<00:00, 3636.68it/s]\n"
     ]
    },
    {
     "name": "stdout",
     "output_type": "stream",
     "text": [
      "Epoch 33, Training Loss: 0.55664, Validation Loss: 0.33327\n"
     ]
    },
    {
     "name": "stderr",
     "output_type": "stream",
     "text": [
      "100%|█████████████████████████████████████████████████████████████████████████████| 1190/1190 [00:03<00:00, 379.52it/s]\n",
      "100%|████████████████████████████████████████████████████████████████████████████████| 63/63 [00:00<00:00, 3872.57it/s]\n"
     ]
    },
    {
     "name": "stdout",
     "output_type": "stream",
     "text": [
      "Epoch 34, Training Loss: 0.58992, Validation Loss: 0.33032\n"
     ]
    },
    {
     "name": "stderr",
     "output_type": "stream",
     "text": [
      "100%|█████████████████████████████████████████████████████████████████████████████| 1190/1190 [00:03<00:00, 365.77it/s]\n",
      "100%|████████████████████████████████████████████████████████████████████████████████| 63/63 [00:00<00:00, 2930.70it/s]\n"
     ]
    },
    {
     "name": "stdout",
     "output_type": "stream",
     "text": [
      "Epoch 35, Training Loss: 0.58374, Validation Loss: 0.35189\n"
     ]
    },
    {
     "name": "stderr",
     "output_type": "stream",
     "text": [
      "100%|█████████████████████████████████████████████████████████████████████████████| 1190/1190 [00:03<00:00, 366.99it/s]\n",
      "100%|████████████████████████████████████████████████████████████████████████████████| 63/63 [00:00<00:00, 3835.31it/s]\n"
     ]
    },
    {
     "name": "stdout",
     "output_type": "stream",
     "text": [
      "Epoch 36, Training Loss: 0.52689, Validation Loss: 0.29206\n"
     ]
    },
    {
     "name": "stderr",
     "output_type": "stream",
     "text": [
      "100%|█████████████████████████████████████████████████████████████████████████████| 1190/1190 [00:03<00:00, 371.84it/s]\n",
      "100%|████████████████████████████████████████████████████████████████████████████████| 63/63 [00:00<00:00, 3824.32it/s]\n"
     ]
    },
    {
     "name": "stdout",
     "output_type": "stream",
     "text": [
      "Epoch 37, Training Loss: 0.52533, Validation Loss: 0.38136\n"
     ]
    },
    {
     "name": "stderr",
     "output_type": "stream",
     "text": [
      "100%|█████████████████████████████████████████████████████████████████████████████| 1190/1190 [00:03<00:00, 353.59it/s]\n",
      "100%|████████████████████████████████████████████████████████████████████████████████| 63/63 [00:00<00:00, 3844.74it/s]\n"
     ]
    },
    {
     "name": "stdout",
     "output_type": "stream",
     "text": [
      "Epoch 38, Training Loss: 0.56216, Validation Loss: 0.30930\n"
     ]
    },
    {
     "name": "stderr",
     "output_type": "stream",
     "text": [
      "100%|█████████████████████████████████████████████████████████████████████████████| 1190/1190 [00:03<00:00, 369.50it/s]\n",
      "100%|████████████████████████████████████████████████████████████████████████████████| 63/63 [00:00<00:00, 2915.12it/s]\n"
     ]
    },
    {
     "name": "stdout",
     "output_type": "stream",
     "text": [
      "Epoch 39, Training Loss: 0.54218, Validation Loss: 0.26271\n"
     ]
    },
    {
     "name": "stderr",
     "output_type": "stream",
     "text": [
      " 16%|████████████▋                                                                 | 193/1190 [00:00<00:03, 314.09it/s]\n",
      "\n",
      "KeyboardInterrupt\n",
      "\n"
     ]
    }
   ],
   "source": [
    "import random\n",
    "import csv\n",
    "import torch\n",
    "import torch.nn as nn\n",
    "import torch.optim as optim\n",
    "import tqdm\n",
    "import numpy as np\n",
    "import albumentations as A\n",
    "\n",
    "# Assuming CNN is defined somewhere\n",
    "model = CNN().to(device)\n",
    "\n",
    "criterion = nn.CrossEntropyLoss()\n",
    "optimizer = optim.Adam(model.parameters(), lr=1e-4)\n",
    "\n",
    "epochs = 1000\n",
    "csv_filename = 'training_results_null.csv'\n",
    "header = ['Epoch', 'Training Loss', 'Validation Loss']\n",
    "\n",
    "# Splitting the dataset into training and validation\n",
    "validation_split = 0.05\n",
    "test_spilit = 0.2\n",
    "split_idx = int(len(train_list) * (1 - validation_split))\n",
    "random.shuffle(train_list)\n",
    "train_data, validation_data = train_list[:split_idx], train_list[split_idx:]\n",
    "\n",
    "# Writing the header to CSV\n",
    "with open(csv_filename, 'w', newline='') as file:\n",
    "    writer = csv.writer(file)\n",
    "    writer.writerow(header)\n",
    "\n",
    "for epoch in range(epochs):\n",
    "    model.train()\n",
    "    random.shuffle(train_data)\n",
    "    train_loss = run_epoch(train_data, model, criterion, optimizer, device, is_train=True)\n",
    "\n",
    "    model.eval()\n",
    "    with torch.no_grad():\n",
    "        validation_loss = run_epoch(validation_data, model, criterion, optimizer, device, is_train=False)\n",
    "\n",
    "    print(f\"Epoch {epoch+1}, Training Loss: {train_loss:.5f}, Validation Loss: {validation_loss:.5f}\")\n",
    "\n",
    "    # Save the results to CSV\n",
    "    with open(csv_filename, 'a', newline='') as file:\n",
    "        writer = csv.writer(file)\n",
    "        writer.writerow([epoch + 1, train_loss, validation_loss])\n",
    "\n",
    "    # Save the model periodically\n",
    "    if epoch % 100 == 0:\n",
    "        torch.save(model, f'model_path/Null-add_{epoch}.pt')\n",
    "        print(\"Saving the model as Nullv1.pt\")\n",
    "\n",
    "\n"
   ]
  },
  {
   "cell_type": "code",
   "execution_count": null,
   "id": "540713ed-9ab5-4fc8-b0ab-a708d8d8699c",
   "metadata": {},
   "outputs": [],
   "source": []
  }
 ],
 "metadata": {
  "kernelspec": {
   "display_name": "Python 3 (ipykernel)",
   "language": "python",
   "name": "python3"
  },
  "language_info": {
   "codemirror_mode": {
    "name": "ipython",
    "version": 3
   },
   "file_extension": ".py",
   "mimetype": "text/x-python",
   "name": "python",
   "nbconvert_exporter": "python",
   "pygments_lexer": "ipython3",
   "version": "3.10.12"
  }
 },
 "nbformat": 4,
 "nbformat_minor": 5
}
